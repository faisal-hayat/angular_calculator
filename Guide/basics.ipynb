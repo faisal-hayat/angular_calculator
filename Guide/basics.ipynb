{
 "cells": [
  {
   "cell_type": "markdown",
   "metadata": {},
   "source": [
    "# Basics"
   ]
  },
  {
   "cell_type": "code",
   "execution_count": 1,
   "metadata": {},
   "outputs": [
    {
     "name": "stdout",
     "output_type": "stream",
     "text": [
      "numpy version is  : 1.26.2\n"
     ]
    }
   ],
   "source": [
    "import os\n",
    "import warnings\n",
    "import numpy as np\n",
    "from tslearn.datasets import UCR_UEA_datasets\n",
    "from  tslearn.utils import to_time_series, to_time_series_dataset\n",
    "import matplotlib.pyplot as pyplot\n",
    "\n",
    "warnings.filterwarnings('ignore', category=FutureWarning)\n",
    "\n",
    "print(f'numpy version is  : {np.__version__}')"
   ]
  },
  {
   "cell_type": "code",
   "execution_count": 2,
   "metadata": {},
   "outputs": [
    {
     "name": "stdout",
     "output_type": "stream",
     "text": [
      "fromatted data is : [[1.]\n",
      " [2.]\n",
      " [3.]], type is : <class 'numpy.ndarray'>\n",
      "data is : [1, 2, 3], type is : <class 'list'>\n"
     ]
    }
   ],
   "source": [
    "data = [1, 2, 3]\n",
    "\n",
    "formatted_data = to_time_series(data)\n",
    "print(f'fromatted data is : {formatted_data}, type is : {type(formatted_data)}')\n",
    "print(f'data is : {data}, type is : {type(data)}')"
   ]
  },
  {
   "cell_type": "code",
   "execution_count": 3,
   "metadata": {},
   "outputs": [
    {
     "name": "stdout",
     "output_type": "stream",
     "text": [
      "dataset is : [[[1.]\n",
      "  [3.]\n",
      "  [4.]\n",
      "  [2.]]\n",
      "\n",
      " [[1.]\n",
      "  [2.]\n",
      "  [4.]\n",
      "  [2.]]], type is : <class 'numpy.ndarray'>, size is : 8\n"
     ]
    }
   ],
   "source": [
    "my_first_time_series = [1, 3, 4, 2]\n",
    "my_second_time_series = [1, 2, 4, 2]\n",
    "\n",
    "formatted_dataset = to_time_series_dataset([my_first_time_series, my_second_time_series])\n",
    "print(f'dataset is : {formatted_dataset}, type is : {type(formatted_dataset)}, size is : {formatted_dataset.size}')"
   ]
  }
 ],
 "metadata": {
  "kernelspec": {
   "display_name": "env",
   "language": "python",
   "name": "python3"
  },
  "language_info": {
   "codemirror_mode": {
    "name": "ipython",
    "version": 3
   },
   "file_extension": ".py",
   "mimetype": "text/x-python",
   "name": "python",
   "nbconvert_exporter": "python",
   "pygments_lexer": "ipython3",
   "version": "3.11.5"
  }
 },
 "nbformat": 4,
 "nbformat_minor": 2
}
