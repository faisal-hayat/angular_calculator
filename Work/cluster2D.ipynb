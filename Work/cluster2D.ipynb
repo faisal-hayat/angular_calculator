{
 "cells": [
  {
   "cell_type": "markdown",
   "metadata": {},
   "source": [
    "# 2-D CLustering"
   ]
  },
  {
   "cell_type": "code",
   "execution_count": 1,
   "metadata": {},
   "outputs": [
    {
     "name": "stdout",
     "output_type": "stream",
     "text": [
      "numpy version is : 1.26.2\n",
      "pandas version is : 2.1.4\n"
     ]
    }
   ],
   "source": [
    "# imports\n",
    "%matplotlib inline\n",
    "import os\n",
    "import warnings\n",
    "import numpy as np\n",
    "import pandas as pd\n",
    "import matplotlib.pyplot as plt\n",
    "from sklearn.decomposition import PCA\n",
    "from tslearn.datasets import CachedDatasets\n",
    "from tslearn.clustering import silhouette_score\n",
    "from tslearn.clustering import TimeSeriesKMeans\n",
    "from tslearn.preprocessing import TimeSeriesScalerMeanVariance\n",
    "plt.rcParams['figure.figsize'] = [25, 8]\n",
    "\n",
    "warnings.filterwarnings('ignore', category=FutureWarning)\n",
    "\n",
    "print(f'numpy version is : {np.__version__}')\n",
    "print(f'pandas version is : {pd.__version__}')"
   ]
  },
  {
   "cell_type": "code",
   "execution_count": 2,
   "metadata": {},
   "outputs": [],
   "source": [
    "seed = 0\n",
    "np.random.seed(seed)"
   ]
  },
  {
   "cell_type": "markdown",
   "metadata": {},
   "source": [
    "## Read Data"
   ]
  },
  {
   "cell_type": "code",
   "execution_count": 10,
   "metadata": {},
   "outputs": [
    {
     "name": "stdout",
     "output_type": "stream",
     "text": [
      "daa shape is : (17520, 2)\n"
     ]
    }
   ],
   "source": [
    "data = pd.read_excel('../Data/Data Set.xlsx', usecols=['Date', 'PV Power (kW)', 'Load (kW)'])\n",
    "data.index = data.Date\n",
    "data.drop(['Date'], axis=1, inplace=True)\n",
    "print(f'daa shape is : {data.shape}')"
   ]
  },
  {
   "cell_type": "code",
   "execution_count": 11,
   "metadata": {},
   "outputs": [],
   "source": [
    "pv = data.drop('Load (kW)', axis=1)\n",
    "pload = data.drop('PV Power (kW)', axis=1)\n",
    "\n",
    "pv = [group[1] for group in pv.groupby(pv.index.date)]\n",
    "pload = [group[1] for group in pload.groupby(pload.index.date)]"
   ]
  },
  {
   "cell_type": "markdown",
   "metadata": {},
   "source": [
    "## Pre-Procesing"
   ]
  },
  {
   "cell_type": "code",
   "execution_count": 15,
   "metadata": {},
   "outputs": [],
   "source": [
    "scaler_pv = TimeSeriesScalerMeanVariance()\n",
    "scaler_pload = TimeSeriesScalerMeanVariance()"
   ]
  },
  {
   "cell_type": "code",
   "execution_count": 16,
   "metadata": {},
   "outputs": [],
   "source": [
    "pv_scaled = scaler_pv.fit_transform(pv)\n",
    "pload_scaled = scaler_pload.fit_transform(pload)"
   ]
  },
  {
   "cell_type": "code",
   "execution_count": 17,
   "metadata": {},
   "outputs": [
    {
     "name": "stdout",
     "output_type": "stream",
     "text": [
      "pv_scaled : (365, 48, 1)\n"
     ]
    }
   ],
   "source": [
    "print(f'pv_scaled : {pv_scaled.shape}')"
   ]
  },
  {
   "cell_type": "code",
   "execution_count": null,
   "metadata": {},
   "outputs": [],
   "source": []
  }
 ],
 "metadata": {
  "kernelspec": {
   "display_name": "env",
   "language": "python",
   "name": "python3"
  },
  "language_info": {
   "codemirror_mode": {
    "name": "ipython",
    "version": 3
   },
   "file_extension": ".py",
   "mimetype": "text/x-python",
   "name": "python",
   "nbconvert_exporter": "python",
   "pygments_lexer": "ipython3",
   "version": "3.11.5"
  }
 },
 "nbformat": 4,
 "nbformat_minor": 2
}
