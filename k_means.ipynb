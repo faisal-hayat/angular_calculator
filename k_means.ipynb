{
 "cells": [
  {
   "cell_type": "markdown",
   "metadata": {},
   "source": [
    "# K-Means"
   ]
  },
  {
   "cell_type": "code",
   "execution_count": 1,
   "metadata": {},
   "outputs": [
    {
     "name": "stdout",
     "output_type": "stream",
     "text": [
      "numpy version is : 1.24.3\n",
      "pandas version is : 2.0.3\n"
     ]
    }
   ],
   "source": [
    "import os\n",
    "import warnings\n",
    "import numpy as np\n",
    "import pandas as pd\n",
    "from sklearn.cluster import KMeans\n",
    "import matplotlib.pyplot as plt\n",
    "\n",
    "warnings.filterwarnings(\"ignore\", category=FutureWarning)\n",
    "\n",
    "print(f'numpy version is : {np.__version__}')\n",
    "print(f'pandas version is : {pd.__version__}')"
   ]
  },
  {
   "cell_type": "code",
   "execution_count": 2,
   "metadata": {},
   "outputs": [
    {
     "name": "stdout",
     "output_type": "stream",
     "text": [
      "Index(['Date', 'Intervals', 'Load (kW)', 'PV Power (kW)'], dtype='object')\n"
     ]
    }
   ],
   "source": [
    "data = pd.read_excel(\"Data/Data Set.xlsx\")\n",
    "print(f'{data.columns}')"
   ]
  },
  {
   "cell_type": "code",
   "execution_count": 5,
   "metadata": {},
   "outputs": [
    {
     "name": "stdout",
     "output_type": "stream",
     "text": [
      "    Load (kW)  PV Power (kW)\n",
      "0  384.615385            0.0\n",
      "1  430.625881            0.0\n",
      "2  391.341175            0.0\n",
      "3  352.056469            0.0\n",
      "4  342.372707            0.0\n"
     ]
    }
   ],
   "source": [
    "df = data[['Load (kW)', 'PV Power (kW)']]\n",
    "print(f'{df.head()}')"
   ]
  },
  {
   "cell_type": "code",
   "execution_count": 7,
   "metadata": {},
   "outputs": [],
   "source": [
    "# let's apply the k-means \n",
    "from sklearn.cluster import KMeans\n",
    "\n",
    "kmeans = KMeans(n_clusters=10, random_state=0, n_init=\"auto\").fit(df)"
   ]
  },
  {
   "cell_type": "code",
   "execution_count": 8,
   "metadata": {},
   "outputs": [
    {
     "data": {
      "text/plain": [
       "array([8, 8, 8, ..., 9, 9, 6])"
      ]
     },
     "execution_count": 8,
     "metadata": {},
     "output_type": "execute_result"
    }
   ],
   "source": [
    "kmeans.labels_"
   ]
  },
  {
   "cell_type": "code",
   "execution_count": 9,
   "metadata": {},
   "outputs": [
    {
     "data": {
      "text/plain": [
       "array([[ 748.1433819 ,  206.96239563],\n",
       "       [ 563.56068177, 1354.18334048],\n",
       "       [ 516.45887247,  189.57132575],\n",
       "       [1021.69895258,   22.00578621],\n",
       "       [ 571.18437936, 1765.17245653],\n",
       "       [ 636.54968811,  580.82678333],\n",
       "       [ 588.70243098,   25.11728387],\n",
       "       [ 619.10140859,  976.0222048 ],\n",
       "       [ 346.64345576,    4.40929938],\n",
       "       [ 808.60412407,   14.65164455]])"
      ]
     },
     "execution_count": 9,
     "metadata": {},
     "output_type": "execute_result"
    }
   ],
   "source": [
    "kmeans.cluster_centers_"
   ]
  },
  {
   "cell_type": "code",
   "execution_count": null,
   "metadata": {},
   "outputs": [],
   "source": []
  }
 ],
 "metadata": {
  "kernelspec": {
   "display_name": "env",
   "language": "python",
   "name": "python3"
  },
  "language_info": {
   "codemirror_mode": {
    "name": "ipython",
    "version": 3
   },
   "file_extension": ".py",
   "mimetype": "text/x-python",
   "name": "python",
   "nbconvert_exporter": "python",
   "pygments_lexer": "ipython3",
   "version": "3.11.5"
  }
 },
 "nbformat": 4,
 "nbformat_minor": 2
}
